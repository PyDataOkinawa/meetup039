{
 "cells": [
  {
   "cell_type": "code",
   "execution_count": 1,
   "metadata": {
    "colab": {},
    "colab_type": "code",
    "id": "CV2c1W9wvheC"
   },
   "outputs": [],
   "source": [
    "# ここのコードを ~パクリ~ 参考にした\n",
    "# https://qiita.com/yukoba/items/7a687e44395783eb32b1"
   ]
  },
  {
   "cell_type": "code",
   "execution_count": 3,
   "metadata": {
    "colab": {
     "base_uri": "https://localhost:8080/",
     "height": 34
    },
    "colab_type": "code",
    "id": "LuL5C6tUuBIg",
    "outputId": "7f92c52f-acbe-46ca-ae3f-23b860378614"
   },
   "outputs": [
    {
     "name": "stderr",
     "output_type": "stream",
     "text": [
      "Using TensorFlow backend.\n"
     ]
    }
   ],
   "source": [
    "import numpy as np\n",
    "import scipy.misc\n",
    "from keras import backend as K\n",
    "from keras.layers import Convolution2D, MaxPooling2D\n",
    "from keras.layers import Dense, Dropout, Activation, Flatten, Reshape\n",
    "from keras.layers.wrappers import Bidirectional\n",
    "from keras.layers.recurrent import LSTM\n",
    "from keras.models import Sequential\n",
    "from keras.preprocessing.image import ImageDataGenerator\n",
    "from keras.utils import np_utils\n",
    "from sklearn.model_selection import train_test_split\n",
    "import tensorflow as tf"
   ]
  },
  {
   "cell_type": "code",
   "execution_count": 4,
   "metadata": {
    "colab": {
     "base_uri": "https://localhost:8080/",
     "height": 289
    },
    "colab_type": "code",
    "id": "UV57dA0ju9aa",
    "outputId": "e44cfd5c-6f42-4b2c-b06d-998e18e29e8d"
   },
   "outputs": [
    {
     "name": "stdout",
     "output_type": "stream",
     "text": [
      "--2019-04-28 01:19:49--  https://github.com/yukoba/CnnJapaneseCharacter/raw/master/src/hiragana.npz\n",
      "Resolving github.com (github.com)... 192.30.253.112, 192.30.253.113\n",
      "Connecting to github.com (github.com)|192.30.253.112|:443... connected.\n",
      "HTTP request sent, awaiting response... 302 Found\n",
      "Location: https://raw.githubusercontent.com/yukoba/CnnJapaneseCharacter/master/src/hiragana.npz [following]\n",
      "--2019-04-28 01:19:50--  https://raw.githubusercontent.com/yukoba/CnnJapaneseCharacter/master/src/hiragana.npz\n",
      "Resolving raw.githubusercontent.com (raw.githubusercontent.com)... 151.101.0.133, 151.101.64.133, 151.101.128.133, ...\n",
      "Connecting to raw.githubusercontent.com (raw.githubusercontent.com)|151.101.0.133|:443... connected.\n",
      "HTTP request sent, awaiting response... 200 OK\n",
      "Length: 6680956 (6.4M) [application/octet-stream]\n",
      "Saving to: ‘hiragana.npz’\n",
      "\n",
      "hiragana.npz        100%[===================>]   6.37M  --.-KB/s    in 0.1s    \n",
      "\n",
      "2019-04-28 01:19:50 (66.9 MB/s) - ‘hiragana.npz’ saved [6680956/6680956]\n",
      "\n"
     ]
    }
   ],
   "source": [
    "# ひらがなデータ・セットをダウンロード\n",
    "!wget https://github.com/yukoba/CnnJapaneseCharacter/raw/master/src/hiragana.npz  -O hiragana.npz"
   ]
  },
  {
   "cell_type": "markdown",
   "metadata": {},
   "source": [
    "# データの準備"
   ]
  },
  {
   "cell_type": "code",
   "execution_count": 5,
   "metadata": {
    "colab": {
     "base_uri": "https://localhost:8080/",
     "height": 85
    },
    "colab_type": "code",
    "id": "y2wUnqMhuB0O",
    "outputId": "2bb9ab4a-cf60-4713-bb28-9e92c9028af2"
   },
   "outputs": [
    {
     "name": "stderr",
     "output_type": "stream",
     "text": [
      "/usr/local/lib/python3.6/dist-packages/ipykernel_launcher.py:9: DeprecationWarning: `imresize` is deprecated!\n",
      "`imresize` is deprecated in SciPy 1.0.0, and will be removed in 1.3.0.\n",
      "Use Pillow instead: ``numpy.array(Image.fromarray(arr).resize())``.\n",
      "  if __name__ == '__main__':\n"
     ]
    }
   ],
   "source": [
    "nb_classes = 72\n",
    "img_rows, img_cols = 32, 32\n",
    "\n",
    "ary = np.load('hiragana.npz')['arr_0'].reshape([-1, 127, 128]).astype(np.float32) / 15\n",
    "X_train = np.zeros([nb_classes * 160, img_rows, img_cols], dtype=np.float32)\n",
    "for i in range(nb_classes * 160):\n",
    "    X_train[i] = scipy.misc.imresize(ary[i], (img_rows, img_cols), mode='F')\n",
    "    # X_train[i] = ary[i]\n",
    "Y_train = np.repeat(np.arange(nb_classes), 160)\n",
    "\n",
    "X_train, X_test, Y_train, Y_test = train_test_split(X_train, Y_train, test_size=0.2)\n",
    "\n",
    "X_train = X_train.reshape(X_train.shape[0], img_rows, img_cols, 1)\n",
    "X_test = X_test.reshape(X_test.shape[0], img_rows, img_cols, 1)\n",
    "input_shape = (img_rows, img_cols, 1)\n",
    "\n",
    "# convert class vectors to binary class matrices\n",
    "Y_train = np_utils.to_categorical(Y_train, nb_classes)\n",
    "Y_test = np_utils.to_categorical(Y_test, nb_classes)"
   ]
  },
  {
   "cell_type": "code",
   "execution_count": 6,
   "metadata": {
    "colab": {
     "base_uri": "https://localhost:8080/",
     "height": 34
    },
    "colab_type": "code",
    "id": "3QJwnTM6AzGy",
    "outputId": "22ed4665-df30-4043-f776-5341dd2fbd03"
   },
   "outputs": [
    {
     "data": {
      "text/plain": [
       "(32, 32, 1)"
      ]
     },
     "execution_count": 6,
     "metadata": {
      "tags": []
     },
     "output_type": "execute_result"
    }
   ],
   "source": [
    "input_shape"
   ]
  },
  {
   "cell_type": "code",
   "execution_count": 0,
   "metadata": {
    "colab": {},
    "colab_type": "code",
    "id": "1lrfZ8pifAA-"
   },
   "outputs": [],
   "source": [
    "# なんか漢字も入っているけど、githubのissueみたらバグっぽい\n",
    "# 修正するの面倒なので一旦これで進める.\n",
    "labels = list('あいうえおか平がきぎくぐけげこごさざしじすずせぜそぞただちぢつづてでとどなにぬねのはばぱひびぴふぶぷへべぺほぼぽまみむめもやゆよら開りるれろわん')"
   ]
  },
  {
   "cell_type": "code",
   "execution_count": 0,
   "metadata": {
    "colab": {},
    "colab_type": "code",
    "id": "TOjNR-49ge26"
   },
   "outputs": [],
   "source": [
    "# 画像を複製する\n",
    "datagen = ImageDataGenerator(rotation_range=15, zoom_range=0.20)\n",
    "datagen.fit(X_train)"
   ]
  },
  {
   "cell_type": "markdown",
   "metadata": {},
   "source": [
    "# モデル定義"
   ]
  },
  {
   "cell_type": "code",
   "execution_count": 11,
   "metadata": {
    "colab": {
     "base_uri": "https://localhost:8080/",
     "height": 428
    },
    "colab_type": "code",
    "id": "0q7LDu6qt0-F",
    "outputId": "663bb474-148c-4e9e-b26e-9175ca642803"
   },
   "outputs": [
    {
     "name": "stdout",
     "output_type": "stream",
     "text": [
      "_________________________________________________________________\n",
      "Layer (type)                 Output Shape              Param #   \n",
      "=================================================================\n",
      "reshape_2 (Reshape)          (None, 32, 32)            0         \n",
      "_________________________________________________________________\n",
      "bidirectional_2 (Bidirection (None, 512)               591872    \n",
      "_________________________________________________________________\n",
      "dense_3 (Dense)              (None, 256)               131328    \n",
      "_________________________________________________________________\n",
      "dense_4 (Dense)              (None, 72)                18504     \n",
      "_________________________________________________________________\n",
      "activation_2 (Activation)    (None, 72)                0         \n",
      "=================================================================\n",
      "Total params: 741,704\n",
      "Trainable params: 741,704\n",
      "Non-trainable params: 0\n",
      "_________________________________________________________________\n",
      "WARNING:tensorflow:From /usr/local/lib/python3.6/dist-packages/tensorflow/python/ops/metrics_impl.py:526: to_float (from tensorflow.python.ops.math_ops) is deprecated and will be removed in a future version.\n",
      "Instructions for updating:\n",
      "Use tf.cast instead.\n",
      "WARNING:tensorflow:From /usr/local/lib/python3.6/dist-packages/tensorflow/python/ops/metrics_impl.py:788: div (from tensorflow.python.ops.math_ops) is deprecated and will be removed in a future version.\n",
      "Instructions for updating:\n",
      "Deprecated in favor of operator or tf.math.divide.\n"
     ]
    }
   ],
   "source": [
    "def weight_variable(shape, name=None):\n",
    "    return np.random.normal(scale=.01, size=shape)\n",
    "  \n",
    "\n",
    "def lstm_model(input_shape, nb_classes):\n",
    "    model = Sequential()\n",
    "    model.add(Reshape((32, 32), input_shape=input_shape))\n",
    "    model.add(Bidirectional(LSTM(256)))\n",
    "    model.add(Dense(256))\n",
    "    model.add(Dense(nb_classes, kernel_initializer=weight_variable))\n",
    "    model.add(Activation('softmax'))\n",
    "            \n",
    "    return model\n",
    "\n",
    "\n",
    "def auc(y_true, y_pred):\n",
    "    auc = tf.metrics.auc(y_true, y_pred)[1]\n",
    "    K.get_session().run(tf.local_variables_initializer())\n",
    "    return auc\n",
    "\n",
    "  \n",
    "model = lstm_model(input_shape, nb_classes)\n",
    "model.summary()\n",
    "model.compile(loss='categorical_crossentropy', optimizer='adam', metrics=['accuracy', auc])"
   ]
  },
  {
   "cell_type": "markdown",
   "metadata": {},
   "source": [
    "# 学習"
   ]
  },
  {
   "cell_type": "code",
   "execution_count": 12,
   "metadata": {
    "colab": {
     "base_uri": "https://localhost:8080/",
     "height": 1805
    },
    "colab_type": "code",
    "id": "v4wVZk77gdLS",
    "outputId": "8cb69775-4766-44f4-d48a-b75995f20f9a"
   },
   "outputs": [
    {
     "name": "stderr",
     "output_type": "stream",
     "text": [
      "/usr/local/lib/python3.6/dist-packages/ipykernel_launcher.py:4: UserWarning: The semantics of the Keras 2 argument `steps_per_epoch` is not the same as the Keras 1 argument `samples_per_epoch`. `steps_per_epoch` is the number of batches to draw from the generator at each epoch. Basically steps_per_epoch = samples_per_epoch/batch_size. Similarly `nb_val_samples`->`validation_steps` and `val_samples`->`steps` arguments have changed. Update your method calls accordingly.\n",
      "  after removing the cwd from sys.path.\n",
      "/usr/local/lib/python3.6/dist-packages/ipykernel_launcher.py:4: UserWarning: Update your `fit_generator` call to the Keras 2 API: `fit_generator(<keras_pre..., validation_data=(array([[[..., steps_per_epoch=576, epochs=50)`\n",
      "  after removing the cwd from sys.path.\n"
     ]
    },
    {
     "name": "stdout",
     "output_type": "stream",
     "text": [
      "Epoch 1/50\n",
      "576/576 [==============================] - 76s 132ms/step - loss: 3.3290 - acc: 0.1306 - auc: 0.7369 - val_loss: 2.4806 - val_acc: 0.2704 - val_auc: 0.8599\n",
      "Epoch 2/50\n",
      "576/576 [==============================] - 74s 129ms/step - loss: 2.4669 - acc: 0.2854 - auc: 0.8866 - val_loss: 2.0250 - val_acc: 0.3689 - val_auc: 0.9039\n",
      "Epoch 3/50\n",
      "576/576 [==============================] - 74s 129ms/step - loss: 2.0473 - acc: 0.3994 - auc: 0.9151 - val_loss: 1.5771 - val_acc: 0.5213 - val_auc: 0.9244\n",
      "Epoch 4/50\n",
      "576/576 [==============================] - 75s 131ms/step - loss: 1.6860 - acc: 0.4939 - auc: 0.9318 - val_loss: 1.3868 - val_acc: 0.5664 - val_auc: 0.9379\n",
      "Epoch 5/50\n",
      "576/576 [==============================] - 75s 129ms/step - loss: 1.3736 - acc: 0.5767 - auc: 0.9431 - val_loss: 1.1102 - val_acc: 0.6406 - val_auc: 0.9478\n",
      "Epoch 6/50\n",
      "576/576 [==============================] - 74s 129ms/step - loss: 1.1325 - acc: 0.6457 - auc: 0.9517 - val_loss: 0.8949 - val_acc: 0.7114 - val_auc: 0.9553\n",
      "Epoch 7/50\n",
      "576/576 [==============================] - 75s 130ms/step - loss: 0.9608 - acc: 0.6986 - auc: 0.9583 - val_loss: 0.7224 - val_acc: 0.7635 - val_auc: 0.9611\n",
      "Epoch 8/50\n",
      "576/576 [==============================] - 75s 131ms/step - loss: 0.8478 - acc: 0.7309 - auc: 0.9634 - val_loss: 0.6840 - val_acc: 0.7739 - val_auc: 0.9656\n",
      "Epoch 9/50\n",
      "576/576 [==============================] - 74s 128ms/step - loss: 0.7259 - acc: 0.7737 - auc: 0.9675 - val_loss: 0.5253 - val_acc: 0.8320 - val_auc: 0.9693\n",
      "Epoch 10/50\n",
      "576/576 [==============================] - 74s 128ms/step - loss: 0.6581 - acc: 0.7944 - auc: 0.9709 - val_loss: 0.5766 - val_acc: 0.8194 - val_auc: 0.9723\n",
      "Epoch 11/50\n",
      "576/576 [==============================] - 74s 129ms/step - loss: 0.5898 - acc: 0.8114 - auc: 0.9735 - val_loss: 0.4788 - val_acc: 0.8576 - val_auc: 0.9747\n",
      "Epoch 12/50\n",
      "576/576 [==============================] - 75s 130ms/step - loss: 0.5200 - acc: 0.8334 - auc: 0.9758 - val_loss: 0.4343 - val_acc: 0.8550 - val_auc: 0.9769\n",
      "Epoch 13/50\n",
      "576/576 [==============================] - 74s 128ms/step - loss: 0.4908 - acc: 0.8436 - auc: 0.9778 - val_loss: 0.3982 - val_acc: 0.8750 - val_auc: 0.9786\n",
      "Epoch 14/50\n",
      "576/576 [==============================] - 74s 128ms/step - loss: 0.4510 - acc: 0.8598 - auc: 0.9794 - val_loss: 0.4108 - val_acc: 0.8663 - val_auc: 0.9801\n",
      "Epoch 15/50\n",
      "576/576 [==============================] - 74s 129ms/step - loss: 0.4080 - acc: 0.8665 - auc: 0.9808 - val_loss: 0.4222 - val_acc: 0.8728 - val_auc: 0.9814\n",
      "Epoch 16/50\n",
      "576/576 [==============================] - 74s 129ms/step - loss: 0.4026 - acc: 0.8710 - auc: 0.9820 - val_loss: 0.3424 - val_acc: 0.8932 - val_auc: 0.9825\n",
      "Epoch 17/50\n",
      "576/576 [==============================] - 74s 129ms/step - loss: 0.3630 - acc: 0.8842 - auc: 0.9831 - val_loss: 0.4141 - val_acc: 0.8702 - val_auc: 0.9835\n",
      "Epoch 18/50\n",
      "576/576 [==============================] - 74s 128ms/step - loss: 0.3481 - acc: 0.8864 - auc: 0.9840 - val_loss: 0.3609 - val_acc: 0.8885 - val_auc: 0.9844\n",
      "Epoch 19/50\n",
      "576/576 [==============================] - 74s 129ms/step - loss: 0.3275 - acc: 0.8902 - auc: 0.9849 - val_loss: 0.4005 - val_acc: 0.8819 - val_auc: 0.9853\n",
      "Epoch 20/50\n",
      "576/576 [==============================] - 75s 130ms/step - loss: 0.2873 - acc: 0.9042 - auc: 0.9856 - val_loss: 0.3308 - val_acc: 0.8984 - val_auc: 0.9860\n",
      "Epoch 21/50\n",
      "576/576 [==============================] - 75s 130ms/step - loss: 0.2861 - acc: 0.9103 - auc: 0.9863 - val_loss: 0.3226 - val_acc: 0.9062 - val_auc: 0.9866\n",
      "Epoch 22/50\n",
      "576/576 [==============================] - 74s 128ms/step - loss: 0.2673 - acc: 0.9103 - auc: 0.9869 - val_loss: 0.3319 - val_acc: 0.9045 - val_auc: 0.9872\n",
      "Epoch 23/50\n",
      "576/576 [==============================] - 74s 128ms/step - loss: 0.2598 - acc: 0.9169 - auc: 0.9875 - val_loss: 0.3058 - val_acc: 0.9110 - val_auc: 0.9877\n",
      "Epoch 24/50\n",
      "576/576 [==============================] - 74s 129ms/step - loss: 0.2431 - acc: 0.9192 - auc: 0.9880 - val_loss: 0.3635 - val_acc: 0.9002 - val_auc: 0.9882\n",
      "Epoch 25/50\n",
      "576/576 [==============================] - 75s 130ms/step - loss: 0.2457 - acc: 0.9182 - auc: 0.9884 - val_loss: 0.2900 - val_acc: 0.9132 - val_auc: 0.9887\n",
      "Epoch 26/50\n",
      "576/576 [==============================] - 74s 128ms/step - loss: 0.2263 - acc: 0.9225 - auc: 0.9889 - val_loss: 0.3231 - val_acc: 0.9019 - val_auc: 0.9891\n",
      "Epoch 27/50\n",
      "576/576 [==============================] - 74s 129ms/step - loss: 0.2150 - acc: 0.9296 - auc: 0.9893 - val_loss: 0.2952 - val_acc: 0.9145 - val_auc: 0.9895\n",
      "Epoch 28/50\n",
      "576/576 [==============================] - 75s 130ms/step - loss: 0.2046 - acc: 0.9327 - auc: 0.9897 - val_loss: 0.3098 - val_acc: 0.9067 - val_auc: 0.9898\n",
      "Epoch 29/50\n",
      "576/576 [==============================] - 75s 129ms/step - loss: 0.1862 - acc: 0.9360 - auc: 0.9900 - val_loss: 0.2521 - val_acc: 0.9249 - val_auc: 0.9902\n",
      "Epoch 30/50\n",
      "576/576 [==============================] - 74s 129ms/step - loss: 0.1880 - acc: 0.9365 - auc: 0.9903 - val_loss: 0.2637 - val_acc: 0.9253 - val_auc: 0.9905\n",
      "Epoch 31/50\n",
      "576/576 [==============================] - 74s 129ms/step - loss: 0.1838 - acc: 0.9364 - auc: 0.9906 - val_loss: 0.2567 - val_acc: 0.9262 - val_auc: 0.9908\n",
      "Epoch 32/50\n",
      "576/576 [==============================] - 75s 129ms/step - loss: 0.1624 - acc: 0.9434 - auc: 0.9909 - val_loss: 0.2723 - val_acc: 0.9219 - val_auc: 0.9911\n",
      "Epoch 33/50\n",
      "576/576 [==============================] - 76s 131ms/step - loss: 0.1743 - acc: 0.9409 - auc: 0.9912 - val_loss: 0.2716 - val_acc: 0.9184 - val_auc: 0.9913\n",
      "Epoch 34/50\n",
      "576/576 [==============================] - 74s 129ms/step - loss: 0.1529 - acc: 0.9467 - auc: 0.9914 - val_loss: 0.2936 - val_acc: 0.9180 - val_auc: 0.9916\n",
      "Epoch 35/50\n",
      "576/576 [==============================] - 74s 128ms/step - loss: 0.1586 - acc: 0.9468 - auc: 0.9917 - val_loss: 0.2601 - val_acc: 0.9258 - val_auc: 0.9918\n",
      "Epoch 36/50\n",
      "576/576 [==============================] - 74s 129ms/step - loss: 0.1564 - acc: 0.9492 - auc: 0.9919 - val_loss: 0.2797 - val_acc: 0.9193 - val_auc: 0.9920\n",
      "Epoch 37/50\n",
      "576/576 [==============================] - 75s 130ms/step - loss: 0.1572 - acc: 0.9466 - auc: 0.9921 - val_loss: 0.2512 - val_acc: 0.9271 - val_auc: 0.9922\n",
      "Epoch 38/50\n",
      "576/576 [==============================] - 74s 128ms/step - loss: 0.1326 - acc: 0.9543 - auc: 0.9923 - val_loss: 0.2448 - val_acc: 0.9336 - val_auc: 0.9924\n",
      "Epoch 39/50\n",
      "576/576 [==============================] - 74s 128ms/step - loss: 0.1303 - acc: 0.9562 - auc: 0.9925 - val_loss: 0.2856 - val_acc: 0.9210 - val_auc: 0.9925\n",
      "Epoch 40/50\n",
      "576/576 [==============================] - 74s 129ms/step - loss: 0.1403 - acc: 0.9527 - auc: 0.9926 - val_loss: 0.2955 - val_acc: 0.9171 - val_auc: 0.9927\n",
      "Epoch 41/50\n",
      "576/576 [==============================] - 76s 131ms/step - loss: 0.1350 - acc: 0.9526 - auc: 0.9928 - val_loss: 0.2678 - val_acc: 0.9245 - val_auc: 0.9928\n",
      "Epoch 42/50\n",
      "576/576 [==============================] - 74s 128ms/step - loss: 0.1301 - acc: 0.9555 - auc: 0.9929 - val_loss: 0.2619 - val_acc: 0.9223 - val_auc: 0.9930\n",
      "Epoch 43/50\n",
      "576/576 [==============================] - 74s 128ms/step - loss: 0.1137 - acc: 0.9591 - auc: 0.9931 - val_loss: 0.2334 - val_acc: 0.9319 - val_auc: 0.9931\n",
      "Epoch 44/50\n",
      "576/576 [==============================] - 74s 129ms/step - loss: 0.1283 - acc: 0.9557 - auc: 0.9932 - val_loss: 0.2696 - val_acc: 0.9171 - val_auc: 0.9933\n",
      "Epoch 45/50\n",
      "576/576 [==============================] - 74s 129ms/step - loss: 0.1059 - acc: 0.9631 - auc: 0.9933 - val_loss: 0.2865 - val_acc: 0.9271 - val_auc: 0.9934\n",
      "Epoch 46/50\n",
      "576/576 [==============================] - 79s 137ms/step - loss: 0.1189 - acc: 0.9638 - auc: 0.9935 - val_loss: 0.2544 - val_acc: 0.9219 - val_auc: 0.9935\n",
      "Epoch 47/50\n",
      "576/576 [==============================] - 81s 141ms/step - loss: 0.1015 - acc: 0.9653 - auc: 0.9936 - val_loss: 0.2586 - val_acc: 0.9280 - val_auc: 0.9936\n",
      "Epoch 48/50\n",
      "576/576 [==============================] - 76s 132ms/step - loss: 0.1196 - acc: 0.9602 - auc: 0.9937 - val_loss: 0.2900 - val_acc: 0.9158 - val_auc: 0.9937\n",
      "Epoch 49/50\n",
      "576/576 [==============================] - 76s 131ms/step - loss: 0.1024 - acc: 0.9667 - auc: 0.9938 - val_loss: 0.2566 - val_acc: 0.9353 - val_auc: 0.9938\n",
      "Epoch 50/50\n",
      "576/576 [==============================] - 75s 130ms/step - loss: 0.1123 - acc: 0.9605 - auc: 0.9939 - val_loss: 0.2782 - val_acc: 0.9253 - val_auc: 0.9939\n"
     ]
    }
   ],
   "source": [
    "n_epochs = 50\n",
    "model.fit_generator(datagen.flow(X_train, Y_train, batch_size=16), samples_per_epoch=X_train.shape[0],\n",
    "                    nb_epoch=n_epochs, validation_data=(X_test, Y_test))"
   ]
  },
  {
   "cell_type": "code",
   "execution_count": 0,
   "metadata": {
    "colab": {
     "base_uri": "https://localhost:8080/",
     "height": 34
    },
    "colab_type": "code",
    "id": "0-JUaOeFt_42",
    "outputId": "b4ab713c-5024-4d4a-87c4-dfcc93b9500d"
   },
   "outputs": [
    {
     "name": "stdout",
     "output_type": "stream",
     "text": [
      "hiragana.npz  IMG_1060.jpg  jpn.traineddata  sample_data\n"
     ]
    }
   ],
   "source": [
    "!ls"
   ]
  },
  {
   "cell_type": "code",
   "execution_count": 0,
   "metadata": {
    "colab": {},
    "colab_type": "code",
    "id": "VjvVpdQS1RoX"
   },
   "outputs": [],
   "source": [
    "# モデルを保存する.\n",
    "model.save_weights('./save.weights')"
   ]
  },
  {
   "cell_type": "code",
   "execution_count": 0,
   "metadata": {
    "colab": {},
    "colab_type": "code",
    "id": "CGkrG-3w4Qk_"
   },
   "outputs": [],
   "source": []
  },
  {
   "cell_type": "markdown",
   "metadata": {
    "colab_type": "text",
    "id": "s-h5B--P4S9m"
   },
   "source": [
    "# 予測してみる"
   ]
  },
  {
   "cell_type": "code",
   "execution_count": 14,
   "metadata": {
    "colab": {
     "base_uri": "https://localhost:8080/",
     "height": 88
    },
    "colab_type": "code",
    "id": "HRorwUDJ4T1g",
    "outputId": "dda0a415-9de1-46e8-ad0c-cdb2538abf9e"
   },
   "outputs": [
    {
     "name": "stderr",
     "output_type": "stream",
     "text": [
      "/usr/local/lib/python3.6/dist-packages/keras/engine/sequential.py:110: UserWarning: `Sequential.model` is deprecated. `Sequential` is a subclass of `Model`, you can just use your `Sequential` instance directly.\n",
      "  warnings.warn('`Sequential.model` is deprecated. '\n"
     ]
    },
    {
     "data": {
      "text/plain": [
       "TensorShape([Dimension(None), Dimension(32), Dimension(32), Dimension(1)])"
      ]
     },
     "execution_count": 14,
     "metadata": {
      "tags": []
     },
     "output_type": "execute_result"
    }
   ],
   "source": [
    "model.model.input.shape"
   ]
  },
  {
   "cell_type": "code",
   "execution_count": 0,
   "metadata": {
    "colab": {},
    "colab_type": "code",
    "id": "K2SIpvY14Vy-"
   },
   "outputs": [],
   "source": [
    "from PIL import Image\n",
    "import numpy as np"
   ]
  },
  {
   "cell_type": "code",
   "execution_count": 0,
   "metadata": {
    "colab": {},
    "colab_type": "code",
    "id": "dvdaaDQy4wbo"
   },
   "outputs": [],
   "source": [
    "img = Image.open('../img/canvas_あ.png')"
   ]
  },
  {
   "cell_type": "code",
   "execution_count": 17,
   "metadata": {
    "colab": {
     "base_uri": "https://localhost:8080/",
     "height": 273
    },
    "colab_type": "code",
    "id": "pHLs0-Ob6KG1",
    "outputId": "93710392-7338-4236-9d4c-905b83a171f2"
   },
   "outputs": [
    {
     "data": {
      "image/png": "[encoded data removed]",
      "text/plain": [
       "<PIL.Image.Image image mode=RGBA size=256x256 at 0x7F5DC9A67630>"
      ]
     },
     "execution_count": 17,
     "metadata": {
      "tags": []
     },
     "output_type": "execute_result"
    }
   ],
   "source": [
    "# chrome canvasで作成した手書き（？）画像\n",
    "img.resize((256, 256))"
   ]
  },
  {
   "cell_type": "code",
   "execution_count": 0,
   "metadata": {
    "colab": {},
    "colab_type": "code",
    "id": "M2Bmaj4N40cD"
   },
   "outputs": [],
   "source": [
    "img = img.convert('L').resize((32, 32))\n",
    "img_np = np.array(img).reshape(1, 32, 32, 1)"
   ]
  },
  {
   "cell_type": "code",
   "execution_count": 23,
   "metadata": {
    "colab": {
     "base_uri": "https://localhost:8080/",
     "height": 34
    },
    "colab_type": "code",
    "id": "1W3FI3Yz414H",
    "outputId": "e6beca71-6a01-4ac3-ac7a-faa4d6119344"
   },
   "outputs": [
    {
     "data": {
      "text/plain": [
       "'ざ'"
      ]
     },
     "execution_count": 23,
     "metadata": {
      "tags": []
     },
     "output_type": "execute_result"
    }
   ],
   "source": [
    "label_id = np.argmax(model.predict(img_np))\n",
    "labels[label_id]"
   ]
  },
  {
   "cell_type": "markdown",
   "metadata": {
    "colab": {},
    "colab_type": "code",
    "id": "1_gTPLMQ5jq3"
   },
   "source": [
    "（°ω°"
   ]
  }
 ],
 "metadata": {
  "accelerator": "GPU",
  "colab": {
   "collapsed_sections": [],
   "name": "10_ひらがなOCR_LSTM.ipynb",
   "provenance": [],
   "toc_visible": true,
   "version": "0.3.2"
  },
  "kernelspec": {
   "display_name": "Python 3",
   "language": "python",
   "name": "python3"
  },
  "language_info": {
   "codemirror_mode": {
    "name": "ipython",
    "version": 3
   },
   "file_extension": ".py",
   "mimetype": "text/x-python",
   "name": "python",
   "nbconvert_exporter": "python",
   "pygments_lexer": "ipython3",
   "version": "3.7.0"
  }
 },
 "nbformat": 4,
 "nbformat_minor": 1
}
